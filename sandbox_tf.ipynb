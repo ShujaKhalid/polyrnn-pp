{
 "cells": [
  {
   "cell_type": "code",
   "execution_count": 3,
   "metadata": {},
   "outputs": [
    {
     "name": "stderr",
     "output_type": "stream",
     "text": [
      "Using TensorFlow backend.\n"
     ]
    }
   ],
   "source": [
    "import tensorflow as tf\n",
    "import models.official.resnet.resnet_model as resnet_model\n",
    "import models.official.resnet.resnet_run_loop as resnet_run_loop\n",
    "from models.official.utils.export import export\n",
    "from __future__ import absolute_import\n",
    "from __future__ import division\n",
    "from __future__ import print_function\n",
    "from keras.layers import Input,Activation,Dense,Flatten,Concatenate,Lambda,TimeDistributed,Reshape\n",
    "from keras.layers.merge import add\n",
    "from keras.layers.normalization import BatchNormalization\n",
    "from keras.regularizers import l2\n",
    "from keras import backend as K\n",
    "import six\n",
    "from keras.models import Model\n",
    "from keras.models import Sequential\n",
    "from keras.layers.convolutional import Conv3D,Conv2D,MaxPooling2D,AveragePooling2D\n",
    "from keras.layers.convolutional_recurrent import ConvLSTM2D\n",
    "from keras.layers.normalization import BatchNormalization\n",
    "import skimage.io\n",
    "import matplotlib.pyplot as plt\n",
    "import os\n",
    "import sys"
   ]
  },
  {
   "cell_type": "code",
   "execution_count": 2,
   "metadata": {},
   "outputs": [],
   "source": [
    "#%run -i ./models/official/resnet/cifar10_main.py\n",
    "_HEIGHT = 32\n",
    "_WIDTH = 32\n",
    "_NUM_CHANNELS = 3\n",
    "_DEFAULT_IMAGE_BYTES = _HEIGHT * _WIDTH * _NUM_CHANNELS\n",
    "# The record is the image plus a one-byte label\n",
    "_RECORD_BYTES = _DEFAULT_IMAGE_BYTES + 1\n",
    "_NUM_CLASSES = 10\n",
    "_NUM_DATA_FILES = 5\n",
    "\n",
    "_NUM_IMAGES = {\n",
    "    'train': 50000,\n",
    "    'validation': 10000,\n",
    "}\n",
    "\n",
    "###############################################################################\n",
    "# Data processing\n",
    "###############################################################################\n",
    "def get_filenames(is_training, data_dir):\n",
    "  \"\"\"Returns a list of filenames.\"\"\"\n",
    "  data_dir = os.path.join(data_dir, 'cifar-10-batches-bin')\n",
    "\n",
    "  assert os.path.exists(data_dir), (\n",
    "      'Run cifar10_download_and_extract.py first to download and extract the '\n",
    "      'CIFAR-10 data.')\n",
    "\n",
    "  if is_training:\n",
    "    return [\n",
    "        os.path.join(data_dir, 'data_batch_%d.bin' % i)\n",
    "        for i in range(1, _NUM_DATA_FILES + 1)\n",
    "    ]\n",
    "  else:\n",
    "    return [os.path.join(data_dir, 'test_batch.bin')]\n",
    "\n",
    "\n",
    "def parse_record(raw_record, is_training):\n",
    "  \"\"\"Parse CIFAR-10 image and label from a raw record.\"\"\"\n",
    "  # Convert bytes to a vector of uint8 that is record_bytes long.\n",
    "  record_vector = tf.decode_raw(raw_record, tf.uint8)\n",
    "\n",
    "  # The first byte represents the label, which we convert from uint8 to int32\n",
    "  # and then to one-hot.\n",
    "  label = tf.cast(record_vector[0], tf.int32)\n",
    "  label = tf.one_hot(label, _NUM_CLASSES)\n",
    "\n",
    "  # The remaining bytes after the label represent the image, which we reshape\n",
    "  # from [depth * height * width] to [depth, height, width].\n",
    "  depth_major = tf.reshape(record_vector[1:_RECORD_BYTES],\n",
    "                           [_NUM_CHANNELS, _HEIGHT, _WIDTH])\n",
    "\n",
    "  # Convert from [depth, height, width] to [height, width, depth], and cast as\n",
    "  # float32.\n",
    "  image = tf.cast(tf.transpose(depth_major, [1, 2, 0]), tf.float32)\n",
    "\n",
    "  image = preprocess_image(image, is_training)\n",
    "\n",
    "  return image, label\n",
    "\n",
    "\n",
    "def preprocess_image(image, is_training):\n",
    "  \"\"\"Preprocess a single image of layout [height, width, depth].\"\"\"\n",
    "  if is_training:\n",
    "    # Resize the image to add four extra pixels on each side.\n",
    "    image = tf.image.resize_image_with_crop_or_pad(\n",
    "        image, _HEIGHT + 8, _WIDTH + 8)\n",
    "\n",
    "    # Randomly crop a [_HEIGHT, _WIDTH] section of the image.\n",
    "    image = tf.random_crop(image, [_HEIGHT, _WIDTH, _NUM_CHANNELS])\n",
    "\n",
    "    # Randomly flip the image horizontally.\n",
    "    image = tf.image.random_flip_left_right(image)\n",
    "\n",
    "  # Subtract off the mean and divide by the variance of the pixels.\n",
    "  image = tf.image.per_image_standardization(image)\n",
    "  return image\n",
    "\n",
    "def input_fn(is_training, data_dir, batch_size, num_epochs=1,\n",
    "             num_parallel_calls=1, multi_gpu=False):\n",
    "  \"\"\"Input_fn using the tf.data input pipeline for CIFAR-10 dataset.\n",
    "\n",
    "  Args:\n",
    "    is_training: A boolean denoting whether the input is for training.\n",
    "    data_dir: The directory containing the input data.\n",
    "    batch_size: The number of samples per batch.\n",
    "    num_epochs: The number of epochs to repeat the dataset.\n",
    "    num_parallel_calls: The number of records that are processed in parallel.\n",
    "      This can be optimized per data set but for generally homogeneous data\n",
    "      sets, should be approximately the number of available CPU cores.\n",
    "    multi_gpu: Whether this is run multi-GPU. Note that this is only required\n",
    "      currently to handle the batch leftovers, and can be removed\n",
    "      when that is handled directly by Estimator.\n",
    "\n",
    "  Returns:\n",
    "    A dataset that can be used for iteration.\n",
    "  \"\"\"\n",
    "  filenames = get_filenames(is_training, data_dir)\n",
    "  dataset = tf.data.FixedLengthRecordDataset(filenames, _RECORD_BYTES)\n",
    "\n",
    "  num_images = is_training and _NUM_IMAGES['train'] or _NUM_IMAGES['validation']\n",
    "\n",
    "  return resnet_run_loop.process_record_dataset(\n",
    "      dataset, is_training, batch_size, _NUM_IMAGES['train'],\n",
    "      parse_record, num_epochs, num_parallel_calls,\n",
    "      examples_per_epoch=num_images, multi_gpu=multi_gpu)\n",
    "\n",
    "\n",
    "def get_synth_input_fn():\n",
    "  return resnet_run_loop.get_synth_input_fn(\n",
    "      _HEIGHT, _WIDTH, _NUM_CHANNELS, _NUM_CLASSES)"
   ]
  },
  {
   "cell_type": "code",
   "execution_count": 3,
   "metadata": {},
   "outputs": [],
   "source": [
    "class Cifar10Model(resnet_model.Model):\n",
    "  \"\"\"Model class with appropriate defaults for CIFAR-10 data.\"\"\"\n",
    "\n",
    "  def __init__(self, resnet_size, data_format=None, num_classes=_NUM_CLASSES,\n",
    "               version=resnet_model.DEFAULT_VERSION,\n",
    "               dtype=resnet_model.DEFAULT_DTYPE):\n",
    "    \"\"\"These are the parameters that work for CIFAR-10 data.\n",
    "\n",
    "    Args:\n",
    "      resnet_size: The number of convolutional layers needed in the model.\n",
    "      data_format: Either 'channels_first' or 'channels_last', specifying which\n",
    "        data format to use when setting up the model.\n",
    "      num_classes: The number of output classes needed from the model. This\n",
    "        enables users to extend the same model to their own datasets.\n",
    "      version: Integer representing which version of the ResNet network to use.\n",
    "        See README for details. Valid values: [1, 2]\n",
    "      dtype: The TensorFlow dtype to use for calculations.\n",
    "\n",
    "    Raises:\n",
    "      ValueError: if invalid resnet_size is chosen\n",
    "    \"\"\"\n",
    "    if resnet_size % 6 != 2:\n",
    "      raise ValueError('resnet_size must be 6n + 2:', resnet_size)\n",
    "\n",
    "    num_blocks = (resnet_size - 2) // 6\n",
    "\n",
    "    super(Cifar10Model, self).__init__(\n",
    "        resnet_size=resnet_size,\n",
    "        bottleneck=False,\n",
    "        num_classes=num_classes,\n",
    "        num_filters=16,\n",
    "        kernel_size=3,\n",
    "        conv_stride=1,\n",
    "        first_pool_size=None,\n",
    "        first_pool_stride=None,\n",
    "        second_pool_size=8,\n",
    "        second_pool_stride=1,\n",
    "        block_sizes=[num_blocks] * 3,\n",
    "        block_strides=[1, 2, 2],\n",
    "        final_size=64,\n",
    "        version=version,\n",
    "        data_format=data_format,\n",
    "        dtype=dtype\n",
    "    )\n"
   ]
  },
  {
   "cell_type": "code",
   "execution_count": 4,
   "metadata": {},
   "outputs": [],
   "source": [
    "def cifar10_model_fn(features, labels, mode, params):\n",
    "  \"\"\"Model function for CIFAR-10.\"\"\"\n",
    "  features = tf.reshape(features, [-1, _HEIGHT, _WIDTH, _NUM_CHANNELS])\n",
    "  print(features.shape)\n",
    "  learning_rate_fn = resnet_run_loop.learning_rate_with_decay(\n",
    "      batch_size=params['batch_size'], batch_denom=128,\n",
    "      num_images=_NUM_IMAGES['train'], boundary_epochs=[100, 150, 200],\n",
    "      decay_rates=[1, 0.1, 0.01, 0.001])\n",
    "\n",
    "  # We use a weight decay of 0.0002, which performs better\n",
    "  # than the 0.0001 that was originally suggested.\n",
    "  weight_decay = 2e-4\n",
    "\n",
    "  # Empirical testing showed that including batch_normalization variables\n",
    "  # in the calculation of regularized loss helped validation accuracy\n",
    "  # for the CIFAR-10 dataset, perhaps because the regularization prevents\n",
    "  # overfitting on the small data set. We therefore include all vars when\n",
    "  # regularizing and computing loss during training.\n",
    "  def loss_filter_fn(_):\n",
    "    return True\n",
    "\n",
    "  return resnet_run_loop.resnet_model_fn(\n",
    "      features=features,\n",
    "      labels=labels,\n",
    "      mode=mode,\n",
    "      model_class=Cifar10Model,\n",
    "      resnet_size=params['resnet_size'],\n",
    "      weight_decay=weight_decay,\n",
    "      learning_rate_fn=learning_rate_fn,\n",
    "      momentum=0.9,\n",
    "      data_format=params['data_format'],\n",
    "      version=params['version'],\n",
    "      loss_scale=params['loss_scale'],\n",
    "      loss_filter_fn=loss_filter_fn,\n",
    "      dtype=params['dtype']\n",
    "  )"
   ]
  },
  {
   "cell_type": "code",
   "execution_count": 5,
   "metadata": {},
   "outputs": [
    {
     "name": "stdout",
     "output_type": "stream",
     "text": [
      "INFO:tensorflow:Using default config.\n",
      "INFO:tensorflow:Using config: {'_model_dir': 'model_dir', '_tf_random_seed': None, '_save_summary_steps': 100, '_save_checkpoints_steps': None, '_save_checkpoints_secs': 600, '_session_config': None, '_keep_checkpoint_max': 5, '_keep_checkpoint_every_n_hours': 10000, '_log_step_count_steps': 100, '_train_distribute': None, '_service': None, '_cluster_spec': <tensorflow.python.training.server_lib.ClusterSpec object at 0x00000295A7675940>, '_task_type': 'worker', '_task_id': 0, '_global_id_in_cluster': 0, '_master': '', '_evaluation_master': '', '_is_chief': True, '_num_ps_replicas': 0, '_num_worker_replicas': 1}\n",
      "INFO:tensorflow:Using config: {'_model_dir': 'model_dir', '_tf_random_seed': None, '_save_summary_steps': 100, '_save_checkpoints_steps': None, '_save_checkpoints_secs': 1000000000.0, '_session_config': allow_soft_placement: true\n",
      ", '_keep_checkpoint_max': 5, '_keep_checkpoint_every_n_hours': 10000, '_log_step_count_steps': 100, '_train_distribute': None, '_service': None, '_cluster_spec': <tensorflow.python.training.server_lib.ClusterSpec object at 0x00000295A7675B70>, '_task_type': 'worker', '_task_id': 0, '_global_id_in_cluster': 0, '_master': '', '_evaluation_master': '', '_is_chief': True, '_num_ps_replicas': 0, '_num_worker_replicas': 1}\n",
      "Starting a training cycle.\n",
      "INFO:tensorflow:Skipping training since max_steps has already saved.\n",
      "Starting to evaluate.\n",
      "INFO:tensorflow:Calling model_fn.\n",
      "(?, 32, 32, 3)\n",
      "INFO:tensorflow:Done calling model_fn.\n",
      "INFO:tensorflow:Starting evaluation at 2018-04-24-04:41:08\n",
      "INFO:tensorflow:Graph was finalized.\n",
      "INFO:tensorflow:Restoring parameters from model_dir\\model.ckpt-42977\n",
      "INFO:tensorflow:Running local_init_op.\n",
      "INFO:tensorflow:Done running local_init_op.\n",
      "INFO:tensorflow:Finished evaluation at 2018-04-24-04:41:14\n",
      "INFO:tensorflow:Saving dict for global step 42977: accuracy = 0.9144, global_step = 42977, loss = 0.5663965\n",
      "WARNING:tensorflow:Failed to dump metric to log file: name accuracy, value 0.9144, error Object of type 'int64' is not JSON serializable\n",
      "WARNING:tensorflow:Failed to dump metric to log file: name loss, value 0.5663965, error Object of type 'int64' is not JSON serializable\n",
      "INFO:tensorflow:Stop threshold of 0.9 was passed with metric value 0.9143999814987183.\n",
      "INFO:tensorflow:Calling model_fn.\n",
      "(128, 32, 32, 3)\n",
      "INFO:tensorflow:Done calling model_fn.\n",
      "INFO:tensorflow:Signatures INCLUDED in export for Classify: None\n",
      "INFO:tensorflow:Signatures INCLUDED in export for Regress: None\n",
      "INFO:tensorflow:Signatures INCLUDED in export for Predict: ['predict', 'serving_default']\n",
      "INFO:tensorflow:Restoring parameters from model_dir\\model.ckpt-42977\n",
      "INFO:tensorflow:Assets added to graph.\n",
      "INFO:tensorflow:No assets to write.\n",
      "INFO:tensorflow:SavedModel written to: b\"export_dir\\\\temp-b'1524544876'\\\\saved_model.pb\"\n"
     ]
    }
   ],
   "source": [
    "def main(argv):\n",
    "    #args = parser.parse_args(argv[1:])\n",
    "    \n",
    "    flags={\n",
    "      'train_epochs': 250,\n",
    "      'max_train_steps': 30000,\n",
    "      'epochs_between_evals': 10,\n",
    "      'batch_size': 128,\n",
    "      'train_steps':1000,\n",
    "      'model_dir':'model_dir',\n",
    "      'data_dir':'cifar10_data',\n",
    "      'test_dir':'cifar10_data',\n",
    "      'export_dir':'export_dir',\n",
    "      'resnet_size':50,\n",
    "      'data_format':None,\n",
    "      'multi_gpu':False,\n",
    "      'version':2,\n",
    "      'loss_scale':1,\n",
    "      'use_synthetic_data':False,\n",
    "      'num_parallel_calls':1, # might provide speed boost in the future\n",
    "      'dtype':'float32',\n",
    "      'hooks': None,\n",
    "      'stop_threshold': 0.90,\n",
    "      'benchmark_log_dir': 'benchmark_log_dir',\n",
    "    }\n",
    "    #'hooks': ['LoggingTensorHook', 'ProfilerHook', 'ExamplesPerSecondHook'],\n",
    "    \n",
    "    # Extract the training data here\n",
    "    \n",
    "    \n",
    "    # Build 2 hidden layer DNN with 10, 10 units respectively.\n",
    "    classifier = tf.estimator.Estimator(\n",
    "        model_fn=cifar10_model_fn,\n",
    "        model_dir=flags['model_dir'],\n",
    "        params={\n",
    "          'resnet_size': flags['resnet_size'],\n",
    "          'data_format': flags['data_format'],\n",
    "          'batch_size': flags['batch_size'],\n",
    "          'multi_gpu': flags['multi_gpu'],\n",
    "          'version': flags['version'],\n",
    "          'loss_scale': flags['loss_scale'],\n",
    "          'dtype': flags['dtype'],\n",
    "      })\n",
    "\n",
    "    return classifier,flags\n",
    "\n",
    "def train(classifier,flags):\n",
    "  input_function = flags['use_synthetic_data'] and get_synth_input_fn() or input_fn\n",
    "\n",
    "  for _ in range(flags['train_epochs'] // flags['epochs_between_evals']):\n",
    "\n",
    "    print('Starting a training cycle.')\n",
    "\n",
    "    def input_fn_train():\n",
    "      return input_function(True, flags['data_dir'], flags['batch_size'],\n",
    "                            flags['epochs_between_evals'],\n",
    "                            flags['num_parallel_calls'], flags['multi_gpu'])\n",
    "\n",
    "    classifier.train(input_fn=input_fn_train,\n",
    "                     max_steps=flags['max_train_steps'])\n",
    "\n",
    "    print('Starting to evaluate.')\n",
    "    # Evaluate the model and print results\n",
    "    def input_fn_eval():\n",
    "      return input_function(False, flags['data_dir'], flags['batch_size'],\n",
    "                            1, flags['num_parallel_calls'], flags['multi_gpu'])\n",
    "\n",
    "    # flags.max_train_steps is generally associated with testing and profiling.\n",
    "    # As a result it is frequently called with synthetic data, which will\n",
    "    # iterate forever. Passing steps=flags.max_train_steps allows the eval\n",
    "    # (which is generally unimportant in those circumstances) to terminate.\n",
    "    # Note that eval will run for max_train_steps each loop, regardless of the\n",
    "    # global_step count.\n",
    "    eval_results = classifier.evaluate(input_fn=input_fn_eval,\n",
    "                                       steps=flags['max_train_steps'])\n",
    "\n",
    "def input_fn(is_training, data_dir, batch_size, num_epochs=1,\n",
    "             num_parallel_calls=1, multi_gpu=False):\n",
    "  \"\"\"Input_fn using the tf.data input pipeline for CIFAR-10 dataset.\n",
    "\n",
    "  Args:\n",
    "    is_training: A boolean denoting whether the input is for training.\n",
    "    data_dir: The directory containing the input data.\n",
    "    batch_size: The number of samples per batch.\n",
    "    num_epochs: The number of epochs to repeat the dataset.\n",
    "    num_parallel_calls: The number of records that are processed in parallel.\n",
    "      This can be optimized per data set but for generally homogeneous data\n",
    "      sets, should be approximately the number of available CPU cores.\n",
    "    multi_gpu: Whether this is run multi-GPU. Note that this is only required\n",
    "      currently to handle the batch leftovers, and can be removed\n",
    "      when that is handled directly by Estimator.\n",
    "\n",
    "  Returns:\n",
    "    A dataset that can be used for iteration.\n",
    "  \"\"\"\n",
    "  filenames = get_filenames(is_training, data_dir)\n",
    "  dataset = tf.data.FixedLengthRecordDataset(filenames, _RECORD_BYTES)\n",
    "\n",
    "  num_images = is_training and _NUM_IMAGES['train'] or _NUM_IMAGES['validation']\n",
    "\n",
    "  return resnet_run_loop.process_record_dataset(\n",
    "      dataset, is_training, batch_size, _NUM_IMAGES['train'],\n",
    "      parse_record, num_epochs, num_parallel_calls,\n",
    "      examples_per_epoch=num_images, multi_gpu=multi_gpu)\n",
    "        \n",
    "if __name__ == \"__main__\":\n",
    "    tf.logging.set_verbosity(tf.logging.INFO)\n",
    "    classifier, flags = main(None)\n",
    "    \n",
    "    input_function = flags['use_synthetic_data'] and get_synth_input_fn() or input_fn\n",
    "\n",
    "    resnet_run_loop.resnet_main(\n",
    "        flags, cifar10_model_fn, input_function,\n",
    "        shape=[_HEIGHT, _WIDTH, _NUM_CHANNELS])\n"
   ]
  },
  {
   "cell_type": "code",
   "execution_count": 117,
   "metadata": {},
   "outputs": [
    {
     "name": "stdout",
     "output_type": "stream",
     "text": [
      "INFO:tensorflow:Calling model_fn.\n",
      "(?, 32, 32, 3)\n",
      "INFO:tensorflow:Done calling model_fn.\n",
      "INFO:tensorflow:Graph was finalized.\n",
      "INFO:tensorflow:Restoring parameters from model_dir\\model.ckpt-42977\n",
      "INFO:tensorflow:Running local_init_op.\n",
      "INFO:tensorflow:Done running local_init_op.\n",
      "(10000, 16, 32, 32)\n",
      "(10000, 16, 32, 32)\n",
      "(10000, 32, 16, 16)\n",
      "(10000, 64, 8, 8)\n"
     ]
    }
   ],
   "source": [
    "import numpy as np\n",
    "\n",
    "def predict(classifier,batch_size):\n",
    "    # Generate predictions from the model\n",
    "    predictions = classifier.predict(\n",
    "        input_fn=lambda:input_fn(False, flags['test_dir'], flags['batch_size'],\n",
    "                            1, flags['num_parallel_calls'], flags['multi_gpu'])\n",
    "        )\n",
    "    \n",
    "    layer1 = []\n",
    "    layer2 = []\n",
    "    layer3 = []\n",
    "    layer4 = []\n",
    "    for pred_dict in zip(predictions):\n",
    "        layer1.append(pred_dict[0]['layer1'])\n",
    "        layer2.append(pred_dict[0]['layer2'])\n",
    "        layer3.append(pred_dict[0]['layer3'])\n",
    "        layer4.append(pred_dict[0]['layer4'])\n",
    "    print(np.array(layer1).shape)\n",
    "    print(np.array(layer2).shape)\n",
    "    print(np.array(layer3).shape)\n",
    "    print(np.array(layer4).shape)\n",
    "    \n",
    "    # Create skip_features tensor here\n",
    "    skip_features = np.zeros((1,224,224,128))\n",
    "    \n",
    "    return skip_features\n",
    "    \n",
    "# Predict the results\n",
    "skip_features = predict(classifier,batch_size=128)"
   ]
  },
  {
   "cell_type": "code",
   "execution_count": 118,
   "metadata": {},
   "outputs": [],
   "source": [
    "resnet50 = Sequential()\n",
    "# Add the 2D convolutional LSTM layers here\n",
    "resnet50.add(ConvLSTM2D(filters=64, kernel_size=(3, 3),\n",
    "                   input_shape=(None, 224, 224, 3),\n",
    "                   padding='same', return_sequences=True))\n",
    "resnet50.add(BatchNormalization())\n",
    "\n",
    "resnet50.add(ConvLSTM2D(filters=16, kernel_size=(3, 3),\n",
    "                   padding='same', return_sequences=True))\n",
    "resnet50.add(BatchNormalization())\n",
    "\n",
    "resnet50.add(Conv3D(filters=1, kernel_size=(3, 3, 3),\n",
    "               activation='sigmoid',\n",
    "               padding='same', data_format='channels_last'))"
   ]
  },
  {
   "cell_type": "code",
   "execution_count": 119,
   "metadata": {},
   "outputs": [
    {
     "name": "stdout",
     "output_type": "stream",
     "text": [
      "_________________________________________________________________\n",
      "Layer (type)                 Output Shape              Param #   \n",
      "=================================================================\n",
      "conv_lst_m2d_19 (ConvLSTM2D) (None, None, 224, 224, 64 154624    \n",
      "_________________________________________________________________\n",
      "batch_normalization_18 (Batc (None, None, 224, 224, 64 256       \n",
      "_________________________________________________________________\n",
      "conv_lst_m2d_20 (ConvLSTM2D) (None, None, 224, 224, 16 46144     \n",
      "_________________________________________________________________\n",
      "batch_normalization_19 (Batc (None, None, 224, 224, 16 64        \n",
      "_________________________________________________________________\n",
      "conv3d_8 (Conv3D)            (None, None, 224, 224, 1) 433       \n",
      "=================================================================\n",
      "Total params: 201,521\n",
      "Trainable params: 201,361\n",
      "Non-trainable params: 160\n",
      "_________________________________________________________________\n"
     ]
    }
   ],
   "source": [
    "resnet50.summary()"
   ]
  },
  {
   "cell_type": "code",
   "execution_count": 120,
   "metadata": {},
   "outputs": [
    {
     "name": "stdout",
     "output_type": "stream",
     "text": [
      "(1, 4, 224, 224, 3)\n",
      "(224, 224, 3)\n"
     ]
    },
    {
     "data": {
      "image/png": "[encoded data removed]",
      "text/plain": [
       "<Figure size 432x288 with 1 Axes>"
      ]
     },
     "metadata": {},
     "output_type": "display_data"
    }
   ],
   "source": [
    "# Get input image for testing purposes\n",
    "img = []\n",
    "img.append(skimage.io.imread('./gtFine_trainvaltest/gtFine/train/erfurt/erfurt_000000_000019_gtFine_color.png'))\n",
    "\n",
    "# Crop the section of the image that will be run through the network (224x224x3)\n",
    "img_crop = np.array(img[0][350:574,500:724,:3])\n",
    "img_feed = np.reshape(img_crop, [-1,1,224,224,3])\n",
    "img_feed = np.concatenate([img_feed,img_feed,img_feed,img_feed], axis=1)\n",
    "plt.figure()\n",
    "plt.imshow(img_crop)\n",
    "print(img_feed.shape)\n",
    "print(img_crop.shape)"
   ]
  },
  {
   "cell_type": "code",
   "execution_count": 121,
   "metadata": {},
   "outputs": [],
   "source": [
    "pred = resnet50.predict(img_feed)"
   ]
  },
  {
   "cell_type": "code",
   "execution_count": 122,
   "metadata": {},
   "outputs": [
    {
     "name": "stdout",
     "output_type": "stream",
     "text": [
      "(1, 4, 224, 224, 1)\n"
     ]
    }
   ],
   "source": [
    "print(pred.shape)"
   ]
  },
  {
   "cell_type": "code",
   "execution_count": 123,
   "metadata": {},
   "outputs": [
    {
     "data": {
      "text/plain": [
       "<matplotlib.image.AxesImage at 0x2973531a1d0>"
      ]
     },
     "execution_count": 123,
     "metadata": {},
     "output_type": "execute_result"
    },
    {
     "data": {
      "image/png": "[encoded data removed]",
      "text/plain": [
       "<Figure size 432x288 with 1 Axes>"
      ]
     },
     "metadata": {},
     "output_type": "display_data"
    }
   ],
   "source": [
    "plt.imshow(np.squeeze(pred[0,3,:,:,:]))"
   ]
  },
  {
   "cell_type": "code",
   "execution_count": 138,
   "metadata": {},
   "outputs": [],
   "source": [
    "from keras import backend as K\n",
    "input_shape = [1,224,224,3]\n",
    "inp = resnet50.input                                           # input placeholder\n",
    "outputs = [layer.output for layer in resnet50.layers]          # all layer outputs\n",
    "functor = K.function([inp]+ [K.learning_phase()], outputs ) # evaluation function\n",
    "\n",
    "# Testing\n",
    "#test = np.random.random(input_shape)[np.newaxis,...]\n",
    "layer_outs = functor([img_feed, 1.])\n",
    "hidden1 = layer_outs[1]\n",
    "hidden2 = layer_outs[3]\n",
    "\n",
    "def f_1(hidden1):\n",
    "    model = Sequential()\n",
    "    x = Input(shape=(4,224,224,64))\n",
    "    y = Dense(128)(x)\n",
    "    model = Model(x, y)\n",
    "    pred = model.predict(hidden1)\n",
    "    return pred\n",
    "\n",
    "def f_2(hidden2):\n",
    "    model = Sequential()\n",
    "    x = Input(shape=(4,224,224,16))\n",
    "    y = Dense(128)(x)\n",
    "    model = Model(x, y)\n",
    "    pred = model.predict(hidden2)\n",
    "    return pred\n",
    "\n",
    "def f_att(skip_features, f1, f2):\n",
    "    inp = skip_features + f1 + f2\n",
    "    model = Sequential()\n",
    "    x = Input(shape=(4,224,224,128))\n",
    "    y = Dense(1, activation='softmax')(x) # softmax here is required\n",
    "    model = Model(x, y)\n",
    "    pred = model.predict(inp)\n",
    "    return pred\n"
   ]
  },
  {
   "cell_type": "code",
   "execution_count": 139,
   "metadata": {},
   "outputs": [
    {
     "name": "stdout",
     "output_type": "stream",
     "text": [
      "(1, 4, 224, 224, 128)\n",
      "(1, 4, 224, 224, 128)\n",
      "(1, 4, 224, 224, 1)\n"
     ]
    }
   ],
   "source": [
    "f1 = f_1(hidden1)\n",
    "f2 = f_2(hidden2)\n",
    "fatt = f_att(skip_features, f1, f2)\n",
    "print(f1.shape)\n",
    "print(f2.shape)\n",
    "print(fatt.shape)"
   ]
  },
  {
   "cell_type": "code",
   "execution_count": 141,
   "metadata": {},
   "outputs": [
    {
     "data": {
      "text/plain": [
       "<matplotlib.image.AxesImage at 0x2973128cd68>"
      ]
     },
     "execution_count": 141,
     "metadata": {},
     "output_type": "execute_result"
    },
    {
     "data": {
      "image/png": "[encoded data removed]",
      "text/plain": [
       "<Figure size 432x288 with 1 Axes>"
      ]
     },
     "metadata": {},
     "output_type": "display_data"
    }
   ],
   "source": [
    "plt.figure()\n",
    "plt.imshow(np.squeeze(fatt[0,0,:,:,:]))\n",
    "# plt.figure()\n",
    "# plt.imshow(np.squeeze(img_feed[0,0,:,:,:]))\n",
    "# plt.figure()\n",
    "# plt.imshow(np.squeeze(f1[0,0,:,:,1]))\n"
   ]
  },
  {
   "cell_type": "code",
   "execution_count": 181,
   "metadata": {},
   "outputs": [],
   "source": [
    "import json\n",
    "import numpy as np\n",
    "import cv2 as cv\n",
    "\n",
    "def extract_data(img,wdt_orig,hgt_orig,wdt_new,hgt_new):\n",
    "    filename = './gtFine_trainvaltest/gtFine/train/erfurt/erfurt_000104_000019_gtFine_color.png'\n",
    "    filename_crop = filename[:-10]\n",
    "    filename_poly = filename_crop + '_polygons.json'\n",
    "    \n",
    "    # Extract polygon information here\n",
    "    with open(filename_poly) as json_file:\n",
    "        data = json.load(json_file)\n",
    "        \n",
    "    # Convert the image into a numpy array for training purposes\n",
    "    #img = skimage.io.imread(filename) # For testing\n",
    "    img = cv.imread(filename) # For testing\n",
    "    height, width = img.shape[:2]\n",
    "    \n",
    "    # Reshape the file here\n",
    "    res = cv.resize(img,(int(width/(wdt_orig/wdt_new)), int(height/(hgt_orig/hgt_new))), interpolation = cv.INTER_CUBIC)\n",
    "    res = np.reshape(res, [-1,1,hgt_new,wdt_new,3])\n",
    "    print(res.shape)\n",
    "    return res, data\n",
    "\n",
    "def ptsToMask(img,data,wdt_orig,hgt_orig,wdt_new,hgt_new):\n",
    "    print(data['objects'][1])\n",
    "    pts = np.array(data['objects'][1]['polygon'])\n",
    "    output = np.zeros((1,4,hgt_new,wdt_new,3))\n",
    "    entry_set = img\n",
    "    \n",
    "    # Determine max no. of consecutive points\n",
    "    pts_qty = len(pts)\n",
    "    max_val = int(pts_qty/3)*3\n",
    "    \n",
    "    for i,coords in enumerate(pts):\n",
    "        print(i)\n",
    "        # Create the mask here\n",
    "        mask = np.zeros((1,1,hgt_new,wdt_new,3))\n",
    "\n",
    "        # Scale the coordinate values here\n",
    "        coords[0] = int(coords[0]*(wdt_new/wdt_orig))-1\n",
    "        coords[1] = int(coords[1]*(hgt_new/hgt_orig))-1\n",
    "\n",
    "        # Create the mask here\n",
    "        mask[0, 0, coords[1], coords[0]] = 1\n",
    "\n",
    "        # Concatenate the mask here to the object\n",
    "        entry_set = np.concatenate([entry_set,mask], axis=1)\n",
    "\n",
    "        # reset arrays here\n",
    "        if (entry_set.shape[1]==4):\n",
    "            output = np.concatenate([output,entry_set], axis=0)\n",
    "                \n",
    "            entry_set = img\n",
    "            \n",
    "        # Break the loop if there are no more sets of 3 left\n",
    "        if (i+1==max_val):\n",
    "            break;\n",
    "        \n",
    "    \n",
    "    return output\n",
    "    "
   ]
  },
  {
   "cell_type": "code",
   "execution_count": 182,
   "metadata": {},
   "outputs": [
    {
     "name": "stdout",
     "output_type": "stream",
     "text": [
      "(1, 1, 28, 28, 3)\n",
      "{'label': 'road', 'polygon': [[0, 785], [277, 697], [375, 664], [416, 595], [429, 584], [516, 575], [543, 566], [567, 554], [643, 551], [709, 547], [744, 545], [809, 505], [870, 489], [892, 477], [908, 457], [938, 460], [984, 464], [1012, 464], [1065, 469], [1231, 505], [1270, 517], [1325, 568], [1425, 573], [1628, 577], [1614, 622], [1619, 718], [1669, 735], [1786, 779], [1888, 809], [1977, 880], [2048, 881], [2048, 1024], [0, 1023]]}\n",
      "0\n",
      "1\n",
      "2\n",
      "3\n",
      "4\n",
      "5\n",
      "6\n",
      "7\n",
      "8\n",
      "9\n",
      "10\n",
      "11\n",
      "12\n",
      "13\n",
      "14\n",
      "15\n",
      "16\n",
      "17\n",
      "18\n",
      "19\n",
      "20\n",
      "21\n",
      "22\n",
      "23\n",
      "24\n",
      "25\n",
      "26\n",
      "27\n",
      "28\n",
      "29\n",
      "30\n",
      "31\n",
      "32\n"
     ]
    },
    {
     "data": {
      "image/png": "[encoded data removed]",
      "text/plain": [
       "<Figure size 432x288 with 1 Axes>"
      ]
     },
     "metadata": {},
     "output_type": "display_data"
    }
   ],
   "source": [
    "# # Original\n",
    "# wdt_orig = 2048\n",
    "# hgt_orig = 1024\n",
    "# wdt_new = 2048\n",
    "# hgt_new = 1024\n",
    "# img_orig, data = extract_data(None,wdt_orig,hgt_orig,wdt_new,hgt_new)\n",
    "# plt.figure()\n",
    "# plt.imshow(img_orig)\n",
    "# mask_orig = ptsToMask(img_orig,data,wdt_orig,hgt_orig,wdt_new,hgt_new)\n",
    "# plt.figure()\n",
    "# plt.imshow(mask_orig)\n",
    "\n",
    "# # Get the keys\n",
    "# print(data.keys())\n",
    "\n",
    "# New\n",
    "wdt_orig = 2048\n",
    "hgt_orig = 1024\n",
    "wdt_new = 28\n",
    "hgt_new = 28\n",
    "img_new, data = extract_data(None,wdt_orig,hgt_orig,wdt_new,hgt_new)\n",
    "plt.figure()\n",
    "plt.imshow(img_new[0,0,:,:,:])\n",
    "mask_new = ptsToMask(img_new,data,wdt_orig,hgt_orig,wdt_new,hgt_new)"
   ]
  },
  {
   "cell_type": "code",
   "execution_count": 185,
   "metadata": {},
   "outputs": [
    {
     "name": "stdout",
     "output_type": "stream",
     "text": [
      "(12, 4, 28, 28, 3)\n"
     ]
    },
    {
     "data": {
      "text/plain": [
       "<matplotlib.image.AxesImage at 0x29a205c7eb8>"
      ]
     },
     "execution_count": 185,
     "metadata": {},
     "output_type": "execute_result"
    },
    {
     "data": {
      "image/png": "[encoded data removed]",
      "text/plain": [
       "<Figure size 432x288 with 1 Axes>"
      ]
     },
     "metadata": {},
     "output_type": "display_data"
    }
   ],
   "source": [
    "plt.figure()\n",
    "print(mask_new.shape)\n",
    "plt.imshow(mask_new[1,1,:,:,:])"
   ]
  },
  {
   "cell_type": "code",
   "execution_count": null,
   "metadata": {},
   "outputs": [],
   "source": []
  }
 ],
 "metadata": {
  "kernelspec": {
   "display_name": "Python 3",
   "language": "python",
   "name": "python3"
  },
  "language_info": {
   "codemirror_mode": {
    "name": "ipython",
    "version": 3
   },
   "file_extension": ".py",
   "mimetype": "text/x-python",
   "name": "python",
   "nbconvert_exporter": "python",
   "pygments_lexer": "ipython3",
   "version": "3.6.5"
  }
 },
 "nbformat": 4,
 "nbformat_minor": 2
}
